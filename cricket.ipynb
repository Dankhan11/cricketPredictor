{
 "cells": [
  {
   "cell_type": "code",
   "execution_count": 6,
   "metadata": {},
   "outputs": [],
   "source": [
    "import pandas as pd \n",
    "import json \n",
    "import os \n",
    "\n",
    "# Things which can't be tracked from this data set =  "
   ]
  },
  {
   "cell_type": "code",
   "execution_count": 7,
   "metadata": {},
   "outputs": [],
   "source": [
    "def getPlayerStats(innings):\n",
    "    \n",
    "    # Store player stats in a dictionary\n",
    "    player_stats = {}\n",
    "    \n",
    "    for inning in innings:\n",
    "        team = inning.get('team')\n",
    "        overs = inning.get('overs', [])\n",
    "        \n",
    "        for over in overs:\n",
    "            over_number = over.get('over')\n",
    "            deliveries = over.get('deliveries', [])  # Ensure deliveries is a list\n",
    "            \n",
    "            for delivery in deliveries:\n",
    "                batter = delivery.get('batter')\n",
    "                runs = delivery.get('runs', {}).get('batter', 0)\n",
    "                bowler = delivery.get('bowler')\n",
    "                non_striker = delivery.get('non_striker')\n",
    "                \n",
    "                # Initialize stats for the batter if not already present\n",
    "                if batter not in player_stats:\n",
    "                    player_stats[batter] = {\n",
    "                        'team' : team,\n",
    "                        'total_runs': 0,\n",
    "                        'wickets': None  # Set as None initially\n",
    "                    }\n",
    "\n",
    "                # Update batter's total runs\n",
    "                player_stats[batter]['total_runs'] += runs\n",
    "                \n",
    "                # Check if batter got out on this delivery\n",
    "                if \"wickets\" in delivery:\n",
    "                    # Get the wicket information (if present)\n",
    "                    dismissal_info = delivery.get(\"wickets\", [])\n",
    "    \n",
    "                    # Extract wicket details\n",
    "                    player_out = dismissal_info[0][\"player_out\"]\n",
    "                    dismissal_type = dismissal_info[0]['kind']\n",
    "                   \n",
    "                    # Only update if this batter is the one who got out\n",
    "                    if player_out == batter:\n",
    "                        player_stats[batter][\"wickets\"] = {\n",
    "                            \"over\": over_number,\n",
    "                            \"bowler\": bowler,\n",
    "                            \"dismissal_type\": dismissal_type,\n",
    "                            \"player_out\": player_out\n",
    "                        }\n",
    "    \n",
    "    return player_stats\n",
    "\n"
   ]
  },
  {
   "cell_type": "code",
   "execution_count": 8,
   "metadata": {},
   "outputs": [],
   "source": [
    "#function which flattens json data \n",
    "def flatten_json(json_data):\n",
    "    \n",
    "    # Extract the basic match info\n",
    "    match_info = json_data.get('info', {})\n",
    "    match_date = match_info.get('dates', [None])[0]\n",
    "    venue = match_info.get('venue')\n",
    "    teams = match_info.get('teams')\n",
    "\n",
    "    # Toss details\n",
    "    toss = match_info.get('toss', {})\n",
    "    toss_winner = toss.get('winner')\n",
    "    toss_decision = toss.get('decision')\n",
    "\n",
    "    # Outcome details\n",
    "    outcome = match_info.get('outcome', {})\n",
    "    winner = outcome.get('winner')\n",
    "    margin = outcome.get('by', None)\n",
    "\n",
    "    # Get the team which won the toss\n",
    "    if teams[0] == toss_winner:\n",
    "        toss_loser = teams[1]\n",
    "    else:\n",
    "        toss_loser = teams[0]\n",
    "\n",
    "    # Get the team which is chasing\n",
    "    if toss_decision == \"field\":\n",
    "        chasing_team = toss_winner\n",
    "        target_team = toss_loser\n",
    "    else:\n",
    "        chasing_team = toss_loser\n",
    "        target_team = toss_winner\n",
    "\n",
    "    target_runs = None\n",
    "\n",
    "    # Iterate through all innings to find the target runs\n",
    "    for inning in json_data.get('innings', []):\n",
    "        if inning.get('team') == chasing_team:\n",
    "            target_info = inning.get('target', {})\n",
    "            target_runs = target_info.get('runs', None)\n",
    "            break  # Exit the loop once the correct inning is found\n",
    "        \n",
    "        \n",
    "    # get first 2 strikers from each team \n",
    "    players = match_info.get('players')\n",
    "    \n",
    "    #For chasing team\n",
    "    chasing_striker = players.get(chasing_team, [None,None])[0]\n",
    "    chasing_non_striker = players.get(chasing_team,[None,None])[1]\n",
    "    \n",
    "    #For team setting the target \n",
    "    target_striker = players.get(target_team,[None,None])[0]\n",
    "    target_non_striker = players.get(target_team,[None,None])[1]\n",
    "    \n",
    "    # return over they got out in and number of runs each / highest partnership\n",
    "    #find when partnership ends based upon when the striker gets out\n",
    "    innings = json_data.get('innings', [])\n",
    "    player_stats = getPlayerStats(innings)\n",
    "    \n",
    "        \n",
    "    #access the team list - get first two names - trace that down to innings - loop through overs until name for striker and or non-striker changes\n",
    "    # get the over number , combined runs\n",
    "    # subtract that from total runs to see their impact [if losing opening batsmen has impact on team performance]\n",
    "\n",
    "    # bowlers - opening bowler how long it takes them to get a wicket on average \n",
    "    # track it based upon the changing of either batsmen \n",
    "    \n",
    "    #if the same bowlers are reintroduced later on - impact on team or constantly changin bowlers \n",
    "    \n",
    "    #look at player of the match \n",
    "    \n",
    "    #check how players are most likely to get out\n",
    "    \n",
    "\n",
    "    return {\n",
    "        'match_date': match_date,\n",
    "        'venue': venue,\n",
    "        'winner': winner,\n",
    "        'margin': margin,\n",
    "        'chasing_team': chasing_team,\n",
    "        'toss_winner': toss_winner,\n",
    "        'toss_loser': toss_loser,\n",
    "        'toss_decision': toss_decision,\n",
    "        'target_runs': target_runs,\n",
    "        'target_striker': target_striker,\n",
    "        'target_non_striker':target_non_striker,\n",
    "        'chasing_striker': chasing_striker,\n",
    "        'chasing_non_striker': chasing_non_striker,\n",
    "        # 'teams':player_stats['team'],\n",
    "        # 'total_runs':player_stats['total_runs'],\n",
    "        # 'wickets':player_stats['wickets']\n",
    "}\n",
    "\n",
    "    \n",
    "    \n",
    "    "
   ]
  },
  {
   "cell_type": "code",
   "execution_count": null,
   "metadata": {},
   "outputs": [],
   "source": []
  },
  {
   "cell_type": "code",
   "execution_count": 9,
   "metadata": {},
   "outputs": [
    {
     "ename": "KeyError",
     "evalue": "'team'",
     "output_type": "error",
     "traceback": [
      "\u001b[0;31m---------------------------------------------------------------------------\u001b[0m",
      "\u001b[0;31mKeyError\u001b[0m                                  Traceback (most recent call last)",
      "Cell \u001b[0;32mIn[9], line 8\u001b[0m\n\u001b[1;32m      6\u001b[0m         \u001b[39mwith\u001b[39;00m \u001b[39mopen\u001b[39m(os\u001b[39m.\u001b[39mpath\u001b[39m.\u001b[39mjoin(folder_path, filename), \u001b[39m'\u001b[39m\u001b[39mr\u001b[39m\u001b[39m'\u001b[39m) \u001b[39mas\u001b[39;00m file:\n\u001b[1;32m      7\u001b[0m             json_data \u001b[39m=\u001b[39m json\u001b[39m.\u001b[39mload(file)\n\u001b[0;32m----> 8\u001b[0m             flattened_data \u001b[39m=\u001b[39m flatten_json(json_data)\n\u001b[1;32m      9\u001b[0m             flattened_data_list\u001b[39m.\u001b[39mappend(flattened_data)\n\u001b[1;32m     12\u001b[0m matches \u001b[39m=\u001b[39m pd\u001b[39m.\u001b[39mDataFrame(flattened_data_list)\n",
      "Cell \u001b[0;32mIn[8], line 89\u001b[0m, in \u001b[0;36mflatten_json\u001b[0;34m(json_data)\u001b[0m\n\u001b[1;32m     58\u001b[0m     player_stats \u001b[39m=\u001b[39m getPlayerStats(innings)\n\u001b[1;32m     61\u001b[0m     \u001b[39m#access the team list - get first two names - trace that down to innings - loop through overs until name for striker and or non-striker changes\u001b[39;00m\n\u001b[1;32m     62\u001b[0m     \u001b[39m# get the over number , combined runs\u001b[39;00m\n\u001b[1;32m     63\u001b[0m     \u001b[39m# subtract that from total runs to see their impact [if losing opening batsmen has impact on team performance]\u001b[39;00m\n\u001b[0;32m   (...)\u001b[0m\n\u001b[1;32m     71\u001b[0m     \n\u001b[1;32m     72\u001b[0m     \u001b[39m#check how players are most likely to get out\u001b[39;00m\n\u001b[1;32m     75\u001b[0m     \u001b[39mreturn\u001b[39;00m {\n\u001b[1;32m     76\u001b[0m         \u001b[39m'\u001b[39m\u001b[39mmatch_date\u001b[39m\u001b[39m'\u001b[39m: match_date,\n\u001b[1;32m     77\u001b[0m         \u001b[39m'\u001b[39m\u001b[39mvenue\u001b[39m\u001b[39m'\u001b[39m: venue,\n\u001b[1;32m     78\u001b[0m         \u001b[39m'\u001b[39m\u001b[39mwinner\u001b[39m\u001b[39m'\u001b[39m: winner,\n\u001b[1;32m     79\u001b[0m         \u001b[39m'\u001b[39m\u001b[39mmargin\u001b[39m\u001b[39m'\u001b[39m: margin,\n\u001b[1;32m     80\u001b[0m         \u001b[39m'\u001b[39m\u001b[39mchasing_team\u001b[39m\u001b[39m'\u001b[39m: chasing_team,\n\u001b[1;32m     81\u001b[0m         \u001b[39m'\u001b[39m\u001b[39mtoss_winner\u001b[39m\u001b[39m'\u001b[39m: toss_winner,\n\u001b[1;32m     82\u001b[0m         \u001b[39m'\u001b[39m\u001b[39mtoss_loser\u001b[39m\u001b[39m'\u001b[39m: toss_loser,\n\u001b[1;32m     83\u001b[0m         \u001b[39m'\u001b[39m\u001b[39mtoss_decision\u001b[39m\u001b[39m'\u001b[39m: toss_decision,\n\u001b[1;32m     84\u001b[0m         \u001b[39m'\u001b[39m\u001b[39mtarget_runs\u001b[39m\u001b[39m'\u001b[39m: target_runs,\n\u001b[1;32m     85\u001b[0m         \u001b[39m'\u001b[39m\u001b[39mtarget_striker\u001b[39m\u001b[39m'\u001b[39m: target_striker,\n\u001b[1;32m     86\u001b[0m         \u001b[39m'\u001b[39m\u001b[39mtarget_non_striker\u001b[39m\u001b[39m'\u001b[39m:target_non_striker,\n\u001b[1;32m     87\u001b[0m         \u001b[39m'\u001b[39m\u001b[39mchasing_striker\u001b[39m\u001b[39m'\u001b[39m: chasing_striker,\n\u001b[1;32m     88\u001b[0m         \u001b[39m'\u001b[39m\u001b[39mchasing_non_striker\u001b[39m\u001b[39m'\u001b[39m: chasing_non_striker,\n\u001b[0;32m---> 89\u001b[0m         \u001b[39m'\u001b[39m\u001b[39mteams\u001b[39m\u001b[39m'\u001b[39m:player_stats[\u001b[39m'\u001b[39;49m\u001b[39mteam\u001b[39;49m\u001b[39m'\u001b[39;49m],\n\u001b[1;32m     90\u001b[0m         \u001b[39m'\u001b[39m\u001b[39mtotal_runs\u001b[39m\u001b[39m'\u001b[39m:player_stats[\u001b[39m'\u001b[39m\u001b[39mtotal_runs\u001b[39m\u001b[39m'\u001b[39m],\n\u001b[1;32m     91\u001b[0m         \u001b[39m'\u001b[39m\u001b[39mwickets\u001b[39m\u001b[39m'\u001b[39m:player_stats[\u001b[39m'\u001b[39m\u001b[39mwickets\u001b[39m\u001b[39m'\u001b[39m]\n\u001b[1;32m     92\u001b[0m }\n",
      "\u001b[0;31mKeyError\u001b[0m: 'team'"
     ]
    }
   ],
   "source": [
    "folder_path = '/Users/dankhan/Documents/cricketPredictor/ipl_json'\n",
    "flattened_data_list = []\n",
    "\n",
    "for filename in os.listdir(folder_path):\n",
    "    if filename.endswith('.json'):  # Only process JSON files\n",
    "        with open(os.path.join(folder_path, filename), 'r') as file:\n",
    "            json_data = json.load(file)\n",
    "            flattened_data = flatten_json(json_data)\n",
    "            flattened_data_list.append(flattened_data)\n",
    "            \n",
    "            \n",
    "matches = pd.DataFrame(flattened_data_list)\n",
    "matches\n"
   ]
  },
  {
   "cell_type": "code",
   "execution_count": null,
   "metadata": {},
   "outputs": [],
   "source": [
    "\n"
   ]
  },
  {
   "cell_type": "code",
   "execution_count": null,
   "metadata": {},
   "outputs": [],
   "source": [
    "matches['toss_winner'].value_counts()"
   ]
  },
  {
   "cell_type": "code",
   "execution_count": null,
   "metadata": {},
   "outputs": [],
   "source": [
    "matches[\"toss_loser\"].value_counts()"
   ]
  },
  {
   "cell_type": "code",
   "execution_count": null,
   "metadata": {},
   "outputs": [],
   "source": [
    "#pune warriors, rising pune supergiant/s\n",
    "#deccan chargers\n",
    "#gujurat lions \n",
    "#rcb is times 2 \n",
    "#dehli capitals and daredevils = same team\n",
    "#Kochi Tuskers Kerala \n",
    "\n",
    "\n",
    "\n",
    "# Chennai Super Kings\n",
    "\n",
    "# Delhi Capitals\n",
    "\n",
    "# Gujarat Titans\n",
    "\n",
    "# Kolkata Knight Riders\n",
    "\n",
    "# Lucknow Super Giants\n",
    "\n",
    "# Mumbai Indians\n",
    "\n",
    "# Punjab Kings\n",
    "\n",
    "# Rajasthan Royals\n",
    "\n",
    "# Royal Challengers Bangalore\n",
    "\n",
    "# Sunrisers Hyderabad\n"
   ]
  },
  {
   "cell_type": "code",
   "execution_count": null,
   "metadata": {},
   "outputs": [],
   "source": [
    "matches.dtypes"
   ]
  },
  {
   "cell_type": "markdown",
   "metadata": {},
   "source": [
    "# Cleaning Data for ML "
   ]
  },
  {
   "cell_type": "code",
   "execution_count": null,
   "metadata": {},
   "outputs": [],
   "source": [
    "matches[\"match_date\"] = pd.to_datetime(matches['match_date']) \n",
    "matches"
   ]
  },
  {
   "cell_type": "code",
   "execution_count": null,
   "metadata": {},
   "outputs": [],
   "source": [
    "matches.dtypes"
   ]
  },
  {
   "cell_type": "code",
   "execution_count": null,
   "metadata": {},
   "outputs": [],
   "source": [
    "# base winning a match on the toss decision - whether they chose to bowl or bat\n",
    "matches['decision_code'] = matches[\"toss_decision\"].astype(\"category\").cat.codes"
   ]
  },
  {
   "cell_type": "code",
   "execution_count": null,
   "metadata": {},
   "outputs": [],
   "source": [
    "matches.dtypes"
   ]
  },
  {
   "cell_type": "code",
   "execution_count": null,
   "metadata": {},
   "outputs": [],
   "source": [
    "matches[\"opp_code\"] = matches[\"toss_loser\"].astype(\"category\").cat.codes"
   ]
  },
  {
   "cell_type": "code",
   "execution_count": null,
   "metadata": {},
   "outputs": [],
   "source": [
    "#each opponent now has their own code \n",
    "matches"
   ]
  },
  {
   "cell_type": "code",
   "execution_count": null,
   "metadata": {},
   "outputs": [],
   "source": [
    "matches[\"day_code\"] = matches[\"match_date\"].dt.day_of_week\n",
    "matches"
   ]
  },
  {
   "cell_type": "code",
   "execution_count": null,
   "metadata": {},
   "outputs": [],
   "source": [
    "import numpy as np\n",
    "\n",
    "matches[\"result\"] = np.where(matches[\"toss_winner\"] == matches[\"winner\"], 'W', 'L')\n",
    "matches"
   ]
  },
  {
   "cell_type": "code",
   "execution_count": null,
   "metadata": {},
   "outputs": [],
   "source": [
    "matches[\"target\"] = (matches[\"result\"] == \"W\").astype(\"int\")\n",
    "matches"
   ]
  },
  {
   "cell_type": "markdown",
   "metadata": {},
   "source": [
    "# Creating initial machine learning model"
   ]
  },
  {
   "cell_type": "code",
   "execution_count": null,
   "metadata": {},
   "outputs": [],
   "source": [
    "from sklearn.ensemble import RandomForestClassifier\n",
    "#ml model picks up non linearirties in data "
   ]
  },
  {
   "cell_type": "code",
   "execution_count": null,
   "metadata": {},
   "outputs": [],
   "source": [
    "#series of decision trees, each decision different parameters\n",
    "rf = RandomForestClassifier(n_estimators=500, min_samples_split=10,random_state=1)"
   ]
  },
  {
   "cell_type": "code",
   "execution_count": null,
   "metadata": {},
   "outputs": [],
   "source": [
    "train = matches[matches[\"match_date\"] < '2024-01-01']\n",
    "test = matches[matches[\"match_date\"] > '2024-01-01'] "
   ]
  },
  {
   "cell_type": "code",
   "execution_count": null,
   "metadata": {},
   "outputs": [],
   "source": [
    "predictors = [\"decision_code\",\"opp_code\",\"day_code\"]"
   ]
  },
  {
   "cell_type": "code",
   "execution_count": null,
   "metadata": {},
   "outputs": [],
   "source": [
    "#train a random forest model - with the predictors trying to reach the targer\n",
    "rf.fit(train[predictors], train[\"target\"])"
   ]
  },
  {
   "cell_type": "code",
   "execution_count": null,
   "metadata": {},
   "outputs": [],
   "source": [
    "preds = rf.predict(test[predictors])"
   ]
  },
  {
   "cell_type": "code",
   "execution_count": null,
   "metadata": {},
   "outputs": [],
   "source": [
    "#determine accuracy of the model\n",
    "#metric what % of time did team acc win and vice versa\n",
    "#what % was prediction acurate\n",
    "from sklearn.metrics import accuracy_score"
   ]
  },
  {
   "cell_type": "code",
   "execution_count": null,
   "metadata": {},
   "outputs": [],
   "source": [
    "acc = accuracy_score(test[\"target\"],preds)"
   ]
  },
  {
   "cell_type": "code",
   "execution_count": null,
   "metadata": {},
   "outputs": [],
   "source": [
    "acc"
   ]
  },
  {
   "cell_type": "code",
   "execution_count": null,
   "metadata": {},
   "outputs": [],
   "source": [
    "#see which situation our accuracy was high or low\n",
    "combined = pd.DataFrame(dict(actual = test[\"target\"],prediction = preds))"
   ]
  },
  {
   "cell_type": "code",
   "execution_count": null,
   "metadata": {},
   "outputs": [],
   "source": [
    "pd.crosstab(index=combined[\"actual\"], columns=combined[\"prediction\"])"
   ]
  },
  {
   "cell_type": "code",
   "execution_count": null,
   "metadata": {},
   "outputs": [],
   "source": [
    "from sklearn.metrics import precision_score"
   ]
  },
  {
   "cell_type": "code",
   "execution_count": null,
   "metadata": {},
   "outputs": [],
   "source": [
    "#when we predicted win what % of time did team acc win\n",
    "precision_score(test[\"target\"], preds)"
   ]
  },
  {
   "cell_type": "code",
   "execution_count": null,
   "metadata": {},
   "outputs": [],
   "source": [
    "#team won 38% of the time"
   ]
  },
  {
   "cell_type": "markdown",
   "metadata": {},
   "source": [
    "# improving precision with rolling averages"
   ]
  },
  {
   "cell_type": "code",
   "execution_count": null,
   "metadata": {},
   "outputs": [],
   "source": [
    "grouped_matches = matches.groupby(\"winner\")\n"
   ]
  },
  {
   "cell_type": "code",
   "execution_count": null,
   "metadata": {},
   "outputs": [],
   "source": [
    "group = grouped_matches.get_group(\"Sunrisers Hyderabad\")"
   ]
  },
  {
   "cell_type": "code",
   "execution_count": null,
   "metadata": {},
   "outputs": [],
   "source": [
    "group"
   ]
  },
  {
   "cell_type": "code",
   "execution_count": null,
   "metadata": {},
   "outputs": [],
   "source": [
    "def rolling_averages(group, cols , new_cols):\n",
    "    group = group.sort_values(\"date\")\n",
    "    #removes current match date\n",
    "    rolling_stats = group[cols].rolling(3,closed = 'left').mean()\n",
    "    group[new_cols] = rolling_stats\n",
    "    group = group.dropna(subset=new_cols) #removes rows with missing bals \n",
    "    \n",
    "    return group "
   ]
  },
  {
   "cell_type": "code",
   "execution_count": null,
   "metadata": {},
   "outputs": [],
   "source": [
    "#distinguishes the margin between number of wickets and runs \n",
    "#cols we want to compute rolling averagte for:\n",
    "#average runs per over \n",
    "# first 2 batsmans performance \n",
    "#cols i want to computer olling averages for \n",
    "cols = [\"\"]\n",
    "\n"
   ]
  },
  {
   "cell_type": "code",
   "execution_count": null,
   "metadata": {},
   "outputs": [],
   "source": [
    "def convert_margin(margin_dict):\n",
    "    if isinstance(margin_dict, dict):\n",
    "        if 'runs' in margin_dict:\n",
    "            return margin_dict['runs'], margin_dict['runs']  # No change if it's runs\n",
    "        elif 'wickets' in margin_dict:\n",
    "            return margin_dict['wickets'], margin_dict['wickets'] / 10  # Divide by 10 if it's wickets\n",
    "    return None, None  # Return None if margin_dict is not a valid dictionary\n",
    "\n",
    "# Apply the function to the DataFrame\n",
    "matches[['margin_value', 'needed']] = matches['margin'].apply(lambda x: pd.Series(convert_margin(x)))\n",
    "\n",
    "# Display the DataFrame with the new columns\n",
    "matches"
   ]
  },
  {
   "cell_type": "code",
   "execution_count": null,
   "metadata": {},
   "outputs": [],
   "source": [
    "cols = []"
   ]
  }
 ],
 "metadata": {
  "kernelspec": {
   "display_name": "venv",
   "language": "python",
   "name": "python3"
  },
  "language_info": {
   "codemirror_mode": {
    "name": "ipython",
    "version": 3
   },
   "file_extension": ".py",
   "mimetype": "text/x-python",
   "name": "python",
   "nbconvert_exporter": "python",
   "pygments_lexer": "ipython3",
   "version": "3.10.0"
  },
  "orig_nbformat": 4
 },
 "nbformat": 4,
 "nbformat_minor": 2
}
